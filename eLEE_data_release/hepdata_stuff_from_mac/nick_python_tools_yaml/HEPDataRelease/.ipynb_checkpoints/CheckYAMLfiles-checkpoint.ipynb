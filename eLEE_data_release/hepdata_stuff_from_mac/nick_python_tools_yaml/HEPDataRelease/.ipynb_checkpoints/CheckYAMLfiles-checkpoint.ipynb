{
 "cells": [
  {
   "cell_type": "code",
   "execution_count": 1,
   "metadata": {
    "collapsed": true
   },
   "outputs": [],
   "source": [
    "import yaml\n",
    "import matplotlib.pyplot as plt\n",
    "import numpy as np\n",
    "from matplotlib.colors import LogNorm"
   ]
  },
  {
   "cell_type": "code",
   "execution_count": 2,
   "metadata": {
    "collapsed": true
   },
   "outputs": [],
   "source": [
    "def cov_cnp(M,mu):\n",
    "    cov=0\n",
    "    if mu > 0:\n",
    "        if M != 0:\n",
    "            cov = (3. / (2. / mu + 1. / M))\n",
    "        else:\n",
    "            cov = mu/2.\n",
    "    return cov"
   ]
  },
  {
   "cell_type": "code",
   "execution_count": 3,
   "metadata": {},
   "outputs": [
    {
     "name": "stdout",
     "output_type": "stream",
     "text": [
      "29.045066900000002 27.392052141021132\n",
      "40.600040230000005 37.43954074102113\n",
      "3.2357209000000005\n",
      "25\n"
     ]
    }
   ],
   "source": [
    "# Load data and prediction values\n",
    "\n",
    "with open(\"release/data_0.yaml\", \"r\") as stream:\n",
    "    try:\n",
    "        dat = yaml.safe_load(stream)\n",
    "    except yaml.YAMLError as exc:\n",
    "        print(exc)\n",
    "dat_arr = []\n",
    "mc_arr = []\n",
    "lee_arr = []\n",
    "bkg_arr = []\n",
    "dat_err_low = []\n",
    "dat_err_high = []\n",
    "bins_low = []\n",
    "bins_high = []\n",
    "for i in range(len(dat['dependent_variables'][0]['values'])):\n",
    "    dat_arr.append(dat['dependent_variables'][0]['values'][i]['value'])\n",
    "    mc_arr.append(dat['dependent_variables'][1]['values'][i]['value'])\n",
    "    lee_arr.append(dat['dependent_variables'][2]['values'][i]['value'])\n",
    "    bkg_arr.append(dat['dependent_variables'][3]['values'][i]['value'])\n",
    "    dat_err_low.append(-1*dat['dependent_variables'][0]['values'][i]['errors'][0]['asymerror']['minus'])\n",
    "    dat_err_high.append(dat['dependent_variables'][0]['values'][i]['errors'][0]['asymerror']['plus'])\n",
    "for i in range(len(dat['independent_variables'][0]['values'])):\n",
    "    bins_low.append(dat['independent_variables'][0]['values'][i]['low'])\n",
    "    bins_high.append(dat['independent_variables'][0]['values'][i]['high'])\n",
    "bins = bins_low + [bins_high[-1]]\n",
    "bins_centers = 0.5*(np.array(bins_low)+np.array(bins_high))\n",
    "\n",
    "with open(\"release/data_1.yaml\", \"r\") as stream:\n",
    "    try:\n",
    "        dat = yaml.safe_load(stream)\n",
    "    except yaml.YAMLError as exc:\n",
    "        print(exc)\n",
    "mc_arr_nom = []\n",
    "lee_arr_nom = []\n",
    "for i in range(len(dat['dependent_variables'][0]['values'])):\n",
    "    mc_arr_nom.append(dat['dependent_variables'][1]['values'][i]['value'])\n",
    "    lee_arr_nom.append(dat['dependent_variables'][2]['values'][i]['value'])\n",
    "bins = bins_low + [bins_high[-1]]\n",
    "bins_centers = 0.5*(np.array(bins_low)+np.array(bins_high))\n",
    "\n",
    "print(sum(mc_arr),sum(mc_arr_nom))\n",
    "print(sum(lee_arr),sum(lee_arr_nom))\n",
    "print(sum(bkg_arr))\n",
    "print(sum(dat_arr))\n"
   ]
  },
  {
   "cell_type": "code",
   "execution_count": 4,
   "metadata": {
    "collapsed": true
   },
   "outputs": [],
   "source": [
    "#Load covarince matrices\n",
    "\n",
    "# Constrained \n",
    "\n",
    "# H0 cov matrix\n",
    "with open(\"release/data_2.yaml\", \"r\") as stream:\n",
    "    try:\n",
    "        cov = yaml.safe_load(stream)\n",
    "    except yaml.YAMLError as exc:\n",
    "        print(exc)\n",
    "covm = []\n",
    "for i in range(len(bins_centers)**2):\n",
    "    covm.append(cov['dependent_variables'][0]['values'][i]['value'])\n",
    "covm = np.array(covm).reshape((len(bins_centers),len(bins_centers)))\n",
    "covm*=np.outer(np.array(mc_arr),np.array(mc_arr))\n",
    "for i in range(len(bins_centers)): covm[i,i] += cov_cnp(dat_arr[i],mc_arr[i])\n",
    "    \n",
    "# H1 cov matrix\n",
    "with open(\"release/data_3.yaml\", \"r\") as stream:\n",
    "    try:\n",
    "        cov = yaml.safe_load(stream)\n",
    "    except yaml.YAMLError as exc:\n",
    "        print(exc)\n",
    "lee_covm = []\n",
    "for i in range(len(bins_centers)**2):\n",
    "    lee_covm.append(cov['dependent_variables'][0]['values'][i]['value'])\n",
    "lee_covm = np.array(lee_covm).reshape((len(bins_centers),len(bins_centers)))\n",
    "lee_covm*=np.outer(np.array(lee_arr),np.array(lee_arr))\n",
    "for i in range(len(bins_centers)): lee_covm[i,i] += cov_cnp(dat_arr[i],lee_arr[i])\n",
    "    \n",
    "# Unconstrained \n",
    "\n",
    "# H0 cov matrix\n",
    "with open(\"release/data_4.yaml\", \"r\") as stream:\n",
    "    try:\n",
    "        cov = yaml.safe_load(stream)\n",
    "    except yaml.YAMLError as exc:\n",
    "        print(exc)\n",
    "covm_nom = []\n",
    "for i in range(len(bins_centers)**2):\n",
    "    covm_nom.append(cov['dependent_variables'][0]['values'][i]['value'])\n",
    "covm_nom = np.array(covm_nom).reshape((len(bins_centers),len(bins_centers)))\n",
    "covm_nom*=np.outer(np.array(mc_arr_nom),np.array(mc_arr_nom))\n",
    "for i in range(len(bins_centers)): covm_nom[i,i] += cov_cnp(dat_arr[i],mc_arr_nom[i])\n",
    "    \n",
    "# H1 cov matrix\n",
    "with open(\"release/data_5.yaml\", \"r\") as stream:\n",
    "    try:\n",
    "        cov = yaml.safe_load(stream)\n",
    "    except yaml.YAMLError as exc:\n",
    "        print(exc)\n",
    "lee_covm_nom = []\n",
    "for i in range(len(bins_centers)**2):\n",
    "    lee_covm_nom.append(cov['dependent_variables'][0]['values'][i]['value'])\n",
    "lee_covm_nom = np.array(lee_covm_nom).reshape((len(bins_centers),len(bins_centers)))\n",
    "lee_covm_nom*=np.outer(np.array(lee_arr_nom),np.array(lee_arr_nom))\n",
    "for i in range(len(bins_centers)): lee_covm_nom[i,i] += cov_cnp(dat_arr[i],lee_arr_nom[i])\n",
    "    "
   ]
  },
  {
   "cell_type": "code",
   "execution_count": 5,
   "metadata": {
    "collapsed": true
   },
   "outputs": [],
   "source": [
    "with open(\"release/data_6.yaml\", \"r\") as stream:\n",
    "    try:\n",
    "        simlist = yaml.safe_load(stream)\n",
    "    except yaml.YAMLError as exc:\n",
    "        print(exc)"
   ]
  },
  {
   "cell_type": "code",
   "execution_count": 6,
   "metadata": {},
   "outputs": [
    {
     "name": "stdout",
     "output_type": "stream",
     "text": [
      "{'name': '$E_\\\\nu$', 'units': 'MeV'}\n",
      "{'name': 'weight', 'units': 'Counts in 6.67e20 POT'}\n",
      "{'name': '$E_\\\\nu^{\\\\rm True}$', 'units': 'MeV'}\n"
     ]
    }
   ],
   "source": [
    "print(simlist['dependent_variables'][0]['header'])\n",
    "print(simlist['dependent_variables'][1]['header'])\n",
    "print(simlist['independent_variables'][0]['header'])\n",
    "N = len(simlist['dependent_variables'][0]['values'])\n",
    "Enu_reco = np.zeros(N)\n",
    "Enu_true = np.zeros(N)\n",
    "weights = np.zeros(N)\n",
    "for i in range(N):\n",
    "    Enu_reco[i] = simlist['dependent_variables'][0]['values'][i]['value']\n",
    "    weights[i] = simlist['dependent_variables'][1]['values'][i]['value']\n",
    "    Enu_true[i] = simlist['independent_variables'][0]['values'][i]['value']"
   ]
  },
  {
   "cell_type": "code",
   "execution_count": 7,
   "metadata": {},
   "outputs": [
    {
     "data": {
      "image/png": "[encoded data removed]",
      "text/plain": [
       "<matplotlib.figure.Figure at 0x114e32a90>"
      ]
     },
     "metadata": {},
     "output_type": "display_data"
    }
   ],
   "source": [
    "#Reproduce fig 16 in PRD\n",
    "\n",
    "plt.figure(figsize=(8,6))\n",
    "mc_nparr = np.array([mc_arr[0]]+mc_arr)\n",
    "lee_nparr = np.array([lee_arr[0]]+lee_arr)\n",
    "plt.fill_between(bins,np.zeros_like(mc_nparr),mc_nparr,step='pre',label='Background (%2.1f)'%sum(mc_arr),color='fuchsia')\n",
    "plt.step(bins,lee_nparr,label='LEE (%2.1f)'%(sum(lee_arr)-sum(mc_arr)),color='blue',linestyle='--')\n",
    "\n",
    "plt.errorbar(bins_centers,dat_arr,xerr=0.5*(np.array(bins_high)-np.array(bins_low)),yerr=(dat_err_low,dat_err_high),fmt='.',capsize=3,label='Data (%i)'%sum(dat_arr),color='black')\n",
    "plt.legend(fontsize=15)\n",
    "plt.yticks(fontsize=15)\n",
    "plt.xticks(fontsize=15)\n",
    "plt.show()"
   ]
  },
  {
   "cell_type": "code",
   "execution_count": 8,
   "metadata": {},
   "outputs": [
    {
     "name": "stdout",
     "output_type": "stream",
     "text": [
      "Unconstrained Chi Squares\n",
      "200-500 MeV 6.05835255407 8.30166127364\n",
      "200-1200 MeV 23.0171834024 25.3683351524\n",
      "Constrained Chi Squares\n",
      "200-500 MeV 7.90819110669 17.3026254892\n",
      "200-1200 MeV 25.2770450633 36.3522521088\n"
     ]
    }
   ],
   "source": [
    "print('Unconstrained Chi Squares')\n",
    "# Chi square calculation 200-500 MeV\n",
    "mask1D = np.where(bins_centers<550,True,False)\n",
    "mask2D = np.outer(mask1D,mask1D)\n",
    "Del_H0 = (np.array(mc_arr_nom) - np.array(dat_arr))[mask1D]\n",
    "Del_H1 = (np.array(lee_arr_nom) - np.array(dat_arr))[mask1D]\n",
    "chi2_H0 = np.matmul(np.matmul(Del_H0,np.linalg.inv(covm_nom[mask2D].reshape(len(Del_H0),len(Del_H0)))),Del_H0)\n",
    "chi2_H1 = np.matmul(np.matmul(Del_H1,np.linalg.inv(lee_covm_nom[mask2D].reshape(len(Del_H1),len(Del_H1)))),Del_H1)\n",
    "print('200-500 MeV',chi2_H0,chi2_H1)\n",
    "\n",
    "# Chi square calculation 200-1200 MeV\n",
    "Del_H0 = np.array(mc_arr_nom) - np.array(dat_arr)\n",
    "Del_H1 = np.array(lee_arr_nom) - np.array(dat_arr)\n",
    "chi2_H0 = np.matmul(np.matmul(Del_H0,np.linalg.inv(covm_nom)),Del_H0)\n",
    "chi2_H1 = np.matmul(np.matmul(Del_H1,np.linalg.inv(lee_covm_nom)),Del_H1)\n",
    "print('200-1200 MeV',chi2_H0,chi2_H1)\n",
    "\n",
    "print('Constrained Chi Squares')\n",
    "# Chi square calculation 200-500 MeV\n",
    "mask1D = np.where(bins_centers<550,True,False)\n",
    "mask2D = np.outer(mask1D,mask1D)\n",
    "Del_H0 = (np.array(mc_arr) - np.array(dat_arr))[mask1D]\n",
    "Del_H1 = (np.array(lee_arr) - np.array(dat_arr))[mask1D]\n",
    "chi2_H0 = np.matmul(np.matmul(Del_H0,np.linalg.inv(covm[mask2D].reshape(len(Del_H0),len(Del_H0)))),Del_H0)\n",
    "chi2_H1 = np.matmul(np.matmul(Del_H1,np.linalg.inv(lee_covm[mask2D].reshape(len(Del_H1),len(Del_H1)))),Del_H1)\n",
    "print('200-500 MeV',chi2_H0,chi2_H1)\n",
    "\n",
    "# Chi square calculation 200-1200 MeV\n",
    "Del_H0 = np.array(mc_arr) - np.array(dat_arr)\n",
    "Del_H1 = np.array(lee_arr) - np.array(dat_arr)\n",
    "chi2_H0 = np.matmul(np.matmul(Del_H0,np.linalg.inv(covm)),Del_H0)\n",
    "chi2_H1 = np.matmul(np.matmul(Del_H1,np.linalg.inv(lee_covm)),Del_H1)\n",
    "print('200-1200 MeV',chi2_H0,chi2_H1)\n",
    "\n",
    "\n"
   ]
  },
  {
   "cell_type": "code",
   "execution_count": null,
   "metadata": {},
   "outputs": [],
   "source": []
  },
  {
   "cell_type": "code",
   "execution_count": 9,
   "metadata": {},
   "outputs": [
    {
     "name": "stdout",
     "output_type": "stream",
     "text": [
      "27.392052141\n"
     ]
    },
    {
     "data": {
      "image/png": "[encoded data removed]",
      "text/plain": [
       "<matplotlib.figure.Figure at 0x114e3e9b0>"
      ]
     },
     "metadata": {},
     "output_type": "display_data"
    }
   ],
   "source": [
    "# Plot nue MC\n",
    "\n",
    "plt.figure(figsize=(8,6))\n",
    "mc_arr_unconstr,_,_ = plt.hist(Enu_reco,weights=weights,bins=bins,label=r'Simulated $\\nu_e$ events')\n",
    "print(sum(mc_arr_unconstr)+sum(bkg_arr))\n",
    "plt.xlabel(r'$E_\\nu$ [MeV]',fontsize=15)\n",
    "plt.ylabel('Events',fontsize=15)\n",
    "plt.legend(fontsize=15)\n",
    "plt.yticks(fontsize=15)\n",
    "plt.xticks(fontsize=15)\n",
    "plt.show()"
   ]
  },
  {
   "cell_type": "code",
   "execution_count": 46,
   "metadata": {},
   "outputs": [
    {
     "name": "stdout",
     "output_type": "stream",
     "text": [
      "[ 1.72101587  3.21973284  2.91622422  2.82381642  3.14815038  2.97769629\n",
      "  2.8726438   2.57705986  2.55836486  2.5773476 ]\n"
     ]
    }
   ],
   "source": [
    "#Load covarince matrices\n",
    "\n",
    "# H0 cov matrix\n",
    "with open(\"release/data_3.yaml\", \"r\") as stream:\n",
    "    try:\n",
    "        cov = yaml.safe_load(stream)\n",
    "    except yaml.YAMLError as exc:\n",
    "        print(exc)\n",
    "covm_unconstr = []\n",
    "for i in range(len(bins_centers)**2):\n",
    "    covm_unconstr.append(cov['dependent_variables'][0]['values'][i]['value'])\n",
    "covm_unconstr = np.array(covm_unconstr).reshape((len(bins_centers),len(bins_centers)))\n",
    "covm_unconstr*=np.outer(mc_arr_unconstr+np.array(bkg_arr),mc_arr_unconstr+np.array(bkg_arr))\n",
    "print(mc_arr_unconstr+np.array(bkg_arr))\n",
    "for i in range(len(bins_centers)): covm_unconstr[i,i] += cov_cnp(dat_arr[i],(mc_arr_unconstr+np.array(bkg_arr))[i])\n"
   ]
  },
  {
   "cell_type": "code",
   "execution_count": 48,
   "metadata": {},
   "outputs": [
    {
     "name": "stdout",
     "output_type": "stream",
     "text": [
      "23.0171834024\n",
      "6.05835255407\n"
     ]
    }
   ],
   "source": [
    "# Chi square calculation 200-1200 MeV\n",
    "Del_H0 = mc_arr_unconstr+np.array(bkg_arr) - np.array(dat_arr)\n",
    "chi2_H0 = np.matmul(np.matmul(Del_H0,np.linalg.inv(covm_unconstr)),Del_H0)\n",
    "print(chi2_H0)\n",
    "\n",
    "# Chi square calculation 200-500 MeV\n",
    "mask1D = np.where(bins_centers<550,True,False)\n",
    "mask2D = np.outer(mask1D,mask1D)\n",
    "Del_H0 = (mc_arr_unconstr+np.array(bkg_arr) - np.array(dat_arr))[mask1D]\n",
    "chi2_H0 = np.matmul(np.matmul(Del_H0,np.linalg.inv(covm_unconstr[mask2D].reshape(len(Del_H0),len(Del_H0)))),Del_H0)\n",
    "print(chi2_H0)"
   ]
  },
  {
   "cell_type": "code",
   "execution_count": 19,
   "metadata": {},
   "outputs": [
    {
     "name": "stderr",
     "output_type": "stream",
     "text": [
      "/anaconda/envs/p36workshop/lib/python3.6/site-packages/matplotlib/axes/_axes.py:545: UserWarning: No labelled objects found. Use label='...' kwarg on individual plots.\n",
      "  warnings.warn(\"No labelled objects found. \"\n"
     ]
    },
    {
     "data": {
      "image/png": "[encoded data removed]",
      "text/plain": [
       "<matplotlib.figure.Figure at 0x108a31198>"
      ]
     },
     "metadata": {},
     "output_type": "display_data"
    },
    {
     "data": {
      "image/png": "[encoded data removed]",
      "text/plain": [
       "<matplotlib.figure.Figure at 0x108b92828>"
      ]
     },
     "metadata": {},
     "output_type": "display_data"
    }
   ],
   "source": [
    "# Get energy smearing matrix\n",
    "\n",
    "plt.figure(figsize=(8,6))\n",
    "plt.hist2d(Enu_true,Enu_reco,weights=weights,bins=bins,label=r'Simulated $\\nu_e$ events',norm=LogNorm())\n",
    "plt.colorbar()\n",
    "plt.ylabel(r'$E_\\nu$ [MeV]',fontsize=15)\n",
    "plt.xlabel(r'$E_\\nu^{\\rm True}$ [MeV]',fontsize=15)\n",
    "plt.legend(fontsize=15)\n",
    "plt.yticks(fontsize=15)\n",
    "plt.xticks(fontsize=15)\n",
    "plt.show()\n",
    "\n",
    "plt.figure(figsize=(8,6))\n",
    "plt.hist((Enu_reco-Enu_true)/Enu_true,bins=21,range=(-1,1),label=r'Simulated $\\nu_e$ events')\n",
    "plt.xlabel(r'Frac Error',fontsize=15)\n",
    "plt.legend(fontsize=15)\n",
    "plt.yticks(fontsize=15)\n",
    "plt.xticks(fontsize=15)\n",
    "plt.show()"
   ]
  },
  {
   "cell_type": "code",
   "execution_count": null,
   "metadata": {
    "collapsed": true
   },
   "outputs": [],
   "source": []
  }
 ],
 "metadata": {
  "kernelspec": {
   "display_name": "Python 3",
   "language": "python",
   "name": "python3"
  },
  "language_info": {
   "codemirror_mode": {
    "name": "ipython",
    "version": 3
   },
   "file_extension": ".py",
   "mimetype": "text/x-python",
   "name": "python",
   "nbconvert_exporter": "python",
   "pygments_lexer": "ipython3",
   "version": "3.6.1"
  }
 },
 "nbformat": 4,
 "nbformat_minor": 2
}
